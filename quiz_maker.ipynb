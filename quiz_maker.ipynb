{
 "cells": [
  {
   "cell_type": "code",
   "execution_count": 17,
   "id": "482ebfa7-e21e-4e90-a149-f1d387bdfb53",
   "metadata": {},
   "outputs": [],
   "source": [
    "quiz_questions = {\n",
    "    \"1. What is the correct file extension for Python files?\": {\n",
    "        \"options\": [\"A. .pt\", \"B. .py\", \"C. .python\", \"D. .pyt\"],\n",
    "        \"answer\": \"B\"\n",
    "    },\n",
    "    \"2. A named sequence of statements is known as which of the following?\": {\n",
    "        \"options\": [\"A. definition\", \"B. method\", \"C. function\", \"D. module\"],\n",
    "        \"answer\": \"C\"\n",
    "    },\n",
    "    \"3. Which of the following would NOT work as a variable name?\": {\n",
    "        \"options\": [\"A. a\", \"B. len\", \"C. length\", \"D. x\"],\n",
    "        \"answer\": \"B\"\n",
    "    },\n",
    "    \"4. Is Python case sensitive when dealing with identifiers?\": {\n",
    "        \"options\": [\"A. no\", \"B. yes\", \"C. machine dependent\", \"D. none of the mentioned\"],\n",
    "        \"answer\": \"B\"\n",
    "    },\n",
    "    \n",
    "    \"5. Which of the following defines a block of code in Python?\": {\n",
    "        \"options\": [\"A. Indentation\", \"B. Key\", \"C. Brackets\", \"D. All of the mentioned\"],\n",
    "        \"answer\": \"A\"\n",
    "    },\n",
    "    \n",
    "    \"6. Which keyword is used for a function in Python?\": {\n",
    "        \"options\": [\"A. Function\", \"B. def\", \"C. Fun\", \"D. Define\"],\n",
    "        \"answer\": \"B\"\n",
    "    },\n",
    "    \"7. Which character is used to give single-line comments in Python?\": {\n",
    "        \"options\": [\"A. #\", \"B. //\", \"C. !\", \"D. /*\"],\n",
    "        \"answer\": \"A\"\n",
    "    },\n",
    "    \"8. Which of the following functions is a built-in function in Python?\": {\n",
    "        \"options\": [\"A. factorial()\", \"B. print()\", \"C. seed()\", \"D. sqrt()\"],\n",
    "        \"answer\": \"B\"\n",
    "    },\n",
    "    \"9. Which of the following is not a core data type in Python programming?\": {\n",
    "        \"options\": [\"A. Tuples\", \"B. Lists\", \"C. Class\", \"D. Dictionary\"],\n",
    "        \"answer\": \"C\"\n",
    "    },\n",
    "    \"10. What are the two main types of functions in Python?\": {\n",
    "        \"options\": [\"A. System function\", \"B. Custom function\", \"C. Built-in function & User defined function\", \"D. User function\"],\n",
    "        \"answer\": \"C\"\n",
    "    },\n",
    "}"
   ]
  },
  {
   "cell_type": "code",
   "execution_count": 18,
   "id": "99e9a435-b633-4ea7-b788-4195579eeada",
   "metadata": {},
   "outputs": [],
   "source": [
    "def add_custom_questions():\n",
    "    print(\"\\n📝 Add Your Own Questions (type 'done' to stop)\\n\")\n",
    "    while True:\n",
    "        question = input(\"Enter your question (or type 'done' to finish): \")\n",
    "        if question.lower() == \"done\":\n",
    "            break\n",
    "        options = []\n",
    "        for i in [\"A\", \"B\", \"C\", \"D\"]:\n",
    "            option = input(f\"Enter option {i}: \")\n",
    "            options.append(f\"{i}. {option}\")\n",
    "        answer = input(\"Enter the correct answer (A, B, C, or D): \").strip().upper()\n",
    "        if answer in [\"A\", \"B\", \"C\", \"D\"]:\n",
    "            quiz_questions[question] = {\"options\": options, \"answer\": answer}\n",
    "            print(\"✅ Question added!\\n\")\n",
    "        else:\n",
    "            print(\"❌ Invalid answer. Please use A, B, C, or D. \\n\")"
   ]
  },
  {
   "cell_type": "code",
   "execution_count": 19,
   "id": "538c868f-3302-4f2a-8b0f-9c15f11c3172",
   "metadata": {},
   "outputs": [],
   "source": [
    "def run_quiz():\n",
    "    print(\"\\n🧠 Welcome to the Quiz! Type A, B, C, or D to answer.\")\n",
    "    score = 0 \n",
    "    total = len(quiz_questions)\n",
    "\n",
    "    for question, details in quiz_questions.items():\n",
    "        print(\"\\n\" + question)\n",
    "        for option in details[\"options\"]:\n",
    "            print(option)\n",
    "        answer = input(\"Your answer: \").strip().upper()\n",
    "\n",
    "        if answer == details[\"answer\"]:\n",
    "            print(\"✅ Correct!\")\n",
    "            score += 1\n",
    "        else:\n",
    "            print(f\"❌ Incorrect. The correct answer us {details['answer']}.\")\n",
    "\n",
    "    print(f\"\\n🏁 Quiz Complete! Your final score is {score}/{total}\")\n",
    "    return score, total"
   ]
  },
  {
   "cell_type": "code",
   "execution_count": 20,
   "id": "a91d857e-2ca9-4c41-b791-01f46b5ccd62",
   "metadata": {},
   "outputs": [],
   "source": [
    "def save_score(name,score,total):\n",
    "    with open(\"quiz_score.text\", \"a\") as file:\n",
    "        file.write(f\"{name}: {score}/{total}\\n\")\n",
    "    print(\"🗂️ Your score has been saved! \\n\")"
   ]
  },
  {
   "cell_type": "code",
   "execution_count": 21,
   "id": "f2068ac8-cbb8-4a5e-a2ac-193b7f571022",
   "metadata": {},
   "outputs": [],
   "source": [
    "def main():\n",
    "    print(\"🎉 Welcome to the Quiz Maker & Grader!\")\n",
    "    name = input(\"Enter your name: \")\n",
    "    role = input(\"Enter your role (admin/student): \").lower()\n",
    "\n",
    "    if role == 'admin':\n",
    "        print(f\"\\n🔐 Admin Access Granted. Hello {name}!\")\n",
    "        add_q = input(\"Would you like to add your own questions? (yes/no): \").lower()\n",
    "        if add_q ==\"yes\":\n",
    "            add_custom_questions()\n",
    "    elif role == \"student\":\n",
    "        print(f\"\\n👋 Hello, {name}! Let's begin your quiz.\")\n",
    "    else:\n",
    "        print(\"❌ Invalid role. Exiting program.\")\n",
    "        return\n",
    "\n",
    "    score, total = run_quiz()\n",
    "    save_score(name, score, total)"
   ]
  },
  {
   "cell_type": "code",
   "execution_count": 16,
   "id": "6674141a-0477-4ea8-b73b-1fda73a56b8e",
   "metadata": {},
   "outputs": [
    {
     "name": "stdout",
     "output_type": "stream",
     "text": [
      "🎉 Welcome to the Quiz Maker & Grader!\n"
     ]
    },
    {
     "name": "stdin",
     "output_type": "stream",
     "text": [
      "Enter your name:  Johnnie Oduro Jnr\n",
      "Enter your role (admin/student):  admin\n"
     ]
    },
    {
     "name": "stdout",
     "output_type": "stream",
     "text": [
      "\n",
      "🔐 Admin Access Granted. Hello Johnnie Oduro Jnr!\n"
     ]
    },
    {
     "name": "stdin",
     "output_type": "stream",
     "text": [
      "Would you like to add your own questions? (yes/no):  yes\n"
     ]
    },
    {
     "name": "stdout",
     "output_type": "stream",
     "text": [
      "\n",
      "📝 Add Your Own Questions (type 'done' to stop)\n",
      "\n"
     ]
    },
    {
     "name": "stdin",
     "output_type": "stream",
     "text": [
      "Enter your question (or type 'done' to finish):  Which of the following types of loops are not supported in Python?\n",
      "Enter optino A:  for\n",
      "Enter optino B:  while\n",
      "Enter optino C:  do-while\n",
      "Enter optino D:  None of the above\n",
      "Enter the correct answer (A, B, C, or D):  C\n"
     ]
    },
    {
     "name": "stdout",
     "output_type": "stream",
     "text": [
      "✅ Question added!\n",
      "\n"
     ]
    },
    {
     "name": "stdin",
     "output_type": "stream",
     "text": [
      "Enter your question (or type 'done' to finish):  done\n"
     ]
    },
    {
     "name": "stdout",
     "output_type": "stream",
     "text": [
      "\n",
      "🧠 Welcome to the Quiz! Type A, B, C, or D to answer.\n",
      "\n",
      "1. What is the correct file extension for Python files?\n",
      "A. .pt\n",
      "B. .py\n",
      "C. .python\n",
      "D. .pyt\n"
     ]
    },
    {
     "name": "stdin",
     "output_type": "stream",
     "text": [
      "Your answer:  B\n"
     ]
    },
    {
     "name": "stdout",
     "output_type": "stream",
     "text": [
      "✅ Correct!\n",
      "\n",
      "2. A named sequence of statements is known as which of the following?\n",
      "A. definition\n",
      "B. method\n",
      "C. function\n",
      "D. module\n"
     ]
    },
    {
     "name": "stdin",
     "output_type": "stream",
     "text": [
      "Your answer:  C\n"
     ]
    },
    {
     "name": "stdout",
     "output_type": "stream",
     "text": [
      "✅ Correct!\n",
      "\n",
      "3. Which of the following would NOT work as a variable name?\n",
      "A. a\n",
      "B. len\n",
      "C. length\n",
      "D. x\n"
     ]
    },
    {
     "name": "stdin",
     "output_type": "stream",
     "text": [
      "Your answer:  B\n"
     ]
    },
    {
     "name": "stdout",
     "output_type": "stream",
     "text": [
      "✅ Correct!\n",
      "\n",
      "4. Is Python case sensitive when dealing with identifiers?\n",
      "A. no\n",
      "B. yes\n",
      "C. machine dependent\n",
      "D. none of the mentioned\n"
     ]
    },
    {
     "name": "stdin",
     "output_type": "stream",
     "text": [
      "Your answer:  B\n"
     ]
    },
    {
     "name": "stdout",
     "output_type": "stream",
     "text": [
      "✅ Correct!\n",
      "\n",
      "5. Which of the following defines a block of code in Python?\n",
      "A. Indentation\n",
      "B. Key\n",
      "C. Brackets\n",
      "D. All of the mentioned\n"
     ]
    },
    {
     "name": "stdin",
     "output_type": "stream",
     "text": [
      "Your answer:  A\n"
     ]
    },
    {
     "name": "stdout",
     "output_type": "stream",
     "text": [
      "✅ Correct!\n",
      "\n",
      "6. Which keyword is used for a function in Python?\n",
      "A. Function\n",
      "B. def\n",
      "C. Fun\n",
      "D. Define\n"
     ]
    },
    {
     "name": "stdin",
     "output_type": "stream",
     "text": [
      "Your answer:  B\n"
     ]
    },
    {
     "name": "stdout",
     "output_type": "stream",
     "text": [
      "✅ Correct!\n",
      "\n",
      "7. Which character is used to give single-line comments in Python?\n",
      "A. #\n",
      "B. //\n",
      "C. !\n",
      "D. /*\n"
     ]
    },
    {
     "name": "stdin",
     "output_type": "stream",
     "text": [
      "Your answer:  A\n"
     ]
    },
    {
     "name": "stdout",
     "output_type": "stream",
     "text": [
      "✅ Correct!\n",
      "\n",
      "8. Which of the following functions is a built-in function in Python?\n",
      "A. factorial()\n",
      "B. print()\n",
      "C. seed()\n",
      "D. sqrt()\n"
     ]
    },
    {
     "name": "stdin",
     "output_type": "stream",
     "text": [
      "Your answer:  B\n"
     ]
    },
    {
     "name": "stdout",
     "output_type": "stream",
     "text": [
      "✅ Correct!\n",
      "\n",
      "9. Which of the following is not a core data type in Python programming?\n",
      "A. Tuples\n",
      "B. Lists\n",
      "C. Class\n",
      "D. Dictionary\n"
     ]
    },
    {
     "name": "stdin",
     "output_type": "stream",
     "text": [
      "Your answer:  C\n"
     ]
    },
    {
     "name": "stdout",
     "output_type": "stream",
     "text": [
      "✅ Correct!\n",
      "\n",
      "10. What are the two main types of functions in Python?\n",
      "A. System function\n",
      "B. Custom function\n",
      "C. Built-in function & User defined function\n",
      "D. User function\n"
     ]
    },
    {
     "name": "stdin",
     "output_type": "stream",
     "text": [
      "Your answer:  C\n"
     ]
    },
    {
     "name": "stdout",
     "output_type": "stream",
     "text": [
      "✅ Correct!\n",
      "\n",
      "Which of the following types of loops are not supported in Python?\n",
      "A. for\n",
      "B. while\n",
      "C. do-while\n",
      "D. None of the above\n"
     ]
    },
    {
     "name": "stdin",
     "output_type": "stream",
     "text": [
      "Your answer:  C\n"
     ]
    },
    {
     "name": "stdout",
     "output_type": "stream",
     "text": [
      "✅ Correct!\n",
      "\n",
      "🏁 Quiz Complete! Your final score is 11/11\n",
      "🗂️ Your score has been saved! \n",
      "\n"
     ]
    }
   ],
   "source": [
    "main()"
   ]
  },
  {
   "cell_type": "code",
   "execution_count": null,
   "id": "30f23a24-7522-491b-8c56-a9c45a92b58b",
   "metadata": {},
   "outputs": [],
   "source": []
  }
 ],
 "metadata": {
  "kernelspec": {
   "display_name": "Python 3 (ipykernel)",
   "language": "python",
   "name": "python3"
  },
  "language_info": {
   "codemirror_mode": {
    "name": "ipython",
    "version": 3
   },
   "file_extension": ".py",
   "mimetype": "text/x-python",
   "name": "python",
   "nbconvert_exporter": "python",
   "pygments_lexer": "ipython3",
   "version": "3.13.3"
  }
 },
 "nbformat": 4,
 "nbformat_minor": 5
}
